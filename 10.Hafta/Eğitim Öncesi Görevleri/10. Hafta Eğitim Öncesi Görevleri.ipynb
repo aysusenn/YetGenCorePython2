{
 "cells": [
  {
   "attachments": {},
   "cell_type": "markdown",
   "metadata": {},
   "source": [
    "# Problem 1"
   ]
  },
  {
   "cell_type": "code",
   "execution_count": 1,
   "metadata": {},
   "outputs": [],
   "source": [
    "# 1 - numpy kütüphanesini import edin\n",
    "import numpy as np\n",
    "\n",
    "# 2 - 0 ile 10 arasında 5 sayıdan oluşan matris üretin\n",
    "matrix= np.random.uniform(0.10,size=(5,))\n",
    "\n",
    "# 3 - matris'in boyutunu öğrenin\n",
    "matrix_shape= matrix.shape\n",
    "\n",
    "# 4 - matris'i yeniden boyutlandırın\n",
    "resized_matrix= matrix.reshape((1,5))\n",
    "\n",
    "# 5 - matris'in boyut sayısını öğrenin\n",
    "dimension_count= resized_matrix.ndim "
   ]
  },
  {
   "attachments": {},
   "cell_type": "markdown",
   "metadata": {},
   "source": [
    "# Problem 2"
   ]
  },
  {
   "cell_type": "code",
   "execution_count": 7,
   "metadata": {},
   "outputs": [
    {
     "name": "stdout",
     "output_type": "stream",
     "text": [
      "[[ 1  3  5]\n",
      " [ 7  9 11]]\n"
     ]
    }
   ],
   "source": [
    "# 1 - 0 ile 10 arasında bulunan tek sayılardan oluşan matris üretin\n",
    "\n",
    "import numpy as np\n",
    "\n",
    "odd_matrix = np.arange(1, 12, 2).reshape(2, 3)\n",
    "\n",
    "print(odd_matrix)\n",
    "# 2 - Oluşturduğunuz matrisi parçalayın\n",
    "sub_matrices = np.split(odd_matrix, 2)\n",
    "\n",
    "# 3 - Parçalanmış matrisleri birleştirin\n",
    "concatenated_matrix = np.concatenate(sub_matrices) \n"
   ]
  },
  {
   "attachments": {},
   "cell_type": "markdown",
   "metadata": {},
   "source": [
    "# Problem 3"
   ]
  },
  {
   "cell_type": "code",
   "execution_count": 8,
   "metadata": {},
   "outputs": [
    {
     "name": "stdout",
     "output_type": "stream",
     "text": [
      "[[57 37]\n",
      " [43 77]\n",
      " [37 85]\n",
      " [79 31]\n",
      " [53 55]]\n",
      "Boyut: (5, 2)\n",
      "Boyut sayısı: 2\n",
      "Eleman sayısı: 10\n",
      "Veri tipi: int32\n",
      "En küçük eleman: 31\n",
      "En büyük eleman: 85\n",
      "Toplam: 554\n",
      "Ortalama: 55.4\n",
      "Standart sapma: 18.260339536821323\n"
     ]
    }
   ],
   "source": [
    "# 1 - 5 ile 100 arasında ikişer ikişer atlayarak rastgele 10 sayıdan oluşan matris üretin\n",
    "import numpy as np\n",
    "\n",
    "matrix = np.random.choice(np.arange(5, 101, 2), size=(5, 2))\n",
    "print(matrix)\n",
    "\n",
    "# 2 - matris'in özelliklerini inceleyin\n",
    "\n",
    "print(\"Boyut:\", matrix.shape)\n",
    "print(\"Boyut sayısı:\", matrix.ndim)\n",
    "print(\"Eleman sayısı:\", matrix.size)\n",
    "print(\"Veri tipi:\", matrix.dtype)\n",
    "print(\"En küçük eleman:\", np.min(matrix))\n",
    "print(\"En büyük eleman:\", np.max(matrix))\n",
    "print(\"Toplam:\", np.sum(matrix))\n",
    "print(\"Ortalama:\", np.mean(matrix))\n",
    "print(\"Standart sapma:\", np.std(matrix))"
   ]
  }
 ],
 "metadata": {
  "kernelspec": {
   "display_name": "Python 3",
   "language": "python",
   "name": "python3"
  },
  "language_info": {
   "codemirror_mode": {
    "name": "ipython",
    "version": 3
   },
   "file_extension": ".py",
   "mimetype": "text/x-python",
   "name": "python",
   "nbconvert_exporter": "python",
   "pygments_lexer": "ipython3",
   "version": "3.11.1"
  },
  "orig_nbformat": 4,
  "vscode": {
   "interpreter": {
    "hash": "5026d2d6e7aaaaba093def813beadff083d8733e4a511af01735cbabd156995d"
   }
  }
 },
 "nbformat": 4,
 "nbformat_minor": 2
}
