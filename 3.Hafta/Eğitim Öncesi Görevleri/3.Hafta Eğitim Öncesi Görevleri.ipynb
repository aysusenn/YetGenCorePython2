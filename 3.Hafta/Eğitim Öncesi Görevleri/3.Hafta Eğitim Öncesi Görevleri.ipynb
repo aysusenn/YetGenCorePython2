{
  "cells": [
    {
      "cell_type": "markdown",
      "metadata": {
        "id": "tsD4YVAe_Te2"
      },
      "source": [
        "# Problem 1\n",
        "Bir sayının 7'ye bölünebilir olup olmadığını kontrol etmek \n",
        "için bir program yazın.\n",
        "\n",
        "İpucu: Mod operatörünü (%) kullanabilirsiniz."
      ]
    },
    {
      "cell_type": "code",
      "execution_count": 6,
      "metadata": {
        "id": "NGjvNwKx_Te7"
      },
      "outputs": [
        {
          "name": "stdout",
          "output_type": "stream",
          "text": [
            "28 sayısı yediye tam bölünür\n"
          ]
        }
      ],
      "source": [
        "sayi = int(input(\"Bir sayı giriniz :\"))\n",
        "if sayi % 7 == 0:\n",
        "    print(f\"{sayi} sayısı yediye tam bölünür\")\n",
        "else:\n",
        "    print(f\"{sayi} sayısı yediye tam bölünemez.\")"
      ]
    },
    {
      "cell_type": "markdown",
      "metadata": {
        "id": "Kg3qiBAI_Te8"
      },
      "source": [
        "# Problem 2\n",
        "Kullanıcıdan vize ve final notu isteyin. Girilen vize notunun %40’ı ve \n",
        "girilen finalnotunun ise %60’ı alınarak yıl sonu not ortalaması hesaplanacaktır. \n",
        "\n",
        "Bu not ortalaması eğer 85 ve üzeri ise AA, \n",
        "\n",
        "75 ve 85 arasında ise BA, \n",
        "\n",
        "70 ve 75 arasında ise BB, \n",
        "\n",
        "65 ve 70 arasında ise CB,\n",
        "\n",
        "60 ve 65 arasında ise CC,\n",
        "\n",
        "55 ve 60 arasında ise DC,\n",
        "\n",
        "50 ve 55 arasında ise DD olarak hesaplanacaktır. \n",
        "\n",
        "Bu öğrencinin yıl sonu toplam notu 50’nin altında ise FF ile dersten kalacaktır. \n",
        "\n",
        "Ayrıca öğrencinin final notu 50’nin altında ise direkt FF ile kalacaktır."
      ]
    },
    {
      "cell_type": "code",
      "execution_count": 9,
      "metadata": {
        "id": "MXTtCxI1_Te8"
      },
      "outputs": [
        {
          "name": "stdout",
          "output_type": "stream",
          "text": [
            "40\n",
            "45\n",
            "43.0\n",
            "KALDIN\n"
          ]
        }
      ],
      "source": [
        "vize = int(input(\"Vize notunuzu yazınız :\"))\n",
        "final = int(input(\"Final notunuzu yazınız :\"))\n",
        "ortalama = vize * 40 / 100 + final * 60 / 100\n",
        "print(vize)\n",
        "print(final)\n",
        "print(ortalama)\n",
        "if ortalama >= 85:\n",
        "    print(\"AA ile geçtin\")\n",
        "elif ortalama >= 75 and ortalama < 85:\n",
        "    print(\"BA ile geçtin\")\n",
        "elif ortalama >= 70 and ortalama < 75:\n",
        "    print(\"BB ile geçtin\")\n",
        "elif ortalama >= 65 and ortalama < 70:\n",
        "    print(\"CB ile geçtin\")\n",
        "elif ortalama >= 60 and ortalama < 65:\n",
        "    print(\"CC ile geçtin\")\n",
        "elif ortalama >= 55 and ortalama < 60:\n",
        "    print(\"DC ile geçtin\")\n",
        "elif ortalama >= 50 and ortalama < 55:\n",
        "    print(\"DD ile geçtin\")\n",
        "else:\n",
        "    print(\"KALDIN\")"
      ]
    },
    {
      "cell_type": "markdown",
      "metadata": {
        "id": "tAoRYCTC_Te8"
      },
      "source": [
        "# Problem 3\n",
        "İki YetGenli Zirve'de karşılaşıyorlar. Birbirlerini tanımak için sorular soruyorlar. Birbirlerine yaşlarını soruyorlar. Akıllarına bir Python programı yazıp, yaşlarını ve isimlerini giriyorlar. Büyük olanın yaşını ekrana yazdıran programı yazıyorlar. Sende bu iki YetGenli'ye destek olmak ister misin?\n",
        "\n",
        "```\n",
        "Birinci YetGenlinin ismi: Ahmet\n",
        "Birinci YetGenlinin yaşı : 20\n",
        "İkinci YetGenlinin ismi: Mehmet\n",
        "İkinci YetGenlinin yaşı : 25\n",
        "Mehmet'in yaşı daha büyük ve yaşı 25'tir.\n",
        "```"
      ]
    },
    {
      "cell_type": "code",
      "execution_count": 1,
      "metadata": {
        "id": "bPjE8W0i_Te8"
      },
      "outputs": [
        {
          "name": "stdout",
          "output_type": "stream",
          "text": [
            "mehmet 'in yaşı daha büyüktür ve yaşı 25 'dir.\n"
          ]
        }
      ],
      "source": [
        "isim1= input(\"isim giriniz :\")\n",
        "yas1= int(input(\"yaşınızı giriniz :\"))\n",
        "isim2= input(\"isminizi giriniz :\")\n",
        "yas2= int(input(\"yaşınızı giriniz :\"))\n",
        "\n",
        "if yas1 > yas2:\n",
        "    print(f\"{isim1} 'in yaşı daha büyüktür ve yaşı {yas1} 'dir.\")\n",
        "elif yas2 > yas1:\n",
        "    print(f\"{isim2} 'in yaşı daha büyüktür ve yaşı {yas2} 'dir.\")"
      ]
    },
    {
      "cell_type": "markdown",
      "metadata": {
        "id": "zBVv8Tyg_Te9"
      },
      "source": [
        "# Problem 4\n",
        "Pandemi döneminde AVM'lerde ateş ölçümü yapılıyor. AVM'ye giren kişinin ateş ölçümü 37.5 derecenin altında ise girişe izin veriliyor. 37.5 derecenin üstünde ise girişe izin verilmiyor. AVM'ye girişe izin verilip verilmediğini ekrana yazdıran bir program yazın.\n",
        "\n",
        "Program sonunda şöyle bir çıktı elde etmelisiniz:\n",
        "\n",
        "```\n",
        "Ateşiniz 37.5 derece. AVM'ye girebilirsin! Maske takmayı unutma!\n",
        "Ateşiniz 37.6 derece. AVM'ye giremezsin! Hemen evine dön!\n",
        "```"
      ]
    },
    {
      "cell_type": "code",
      "execution_count": 2,
      "metadata": {
        "id": "TSAXs8et_Te9"
      },
      "outputs": [
        {
          "name": "stdout",
          "output_type": "stream",
          "text": [
            "ateşiniz 38.5 derece. AVM'ye giremezsin. Hemen evine dön.\n"
          ]
        }
      ],
      "source": [
        "ates= float(input(\"ateş derecesini giriniz :\"))\n",
        "if ates > 37.5:\n",
        "    print(f\"ateşiniz {ates} derece. AVM'ye giremezsin. Hemen evine dön.\")\n",
        "elif ates <= 37:\n",
        "    print(f\"ateşiniz {ates} derece. AVM'ye girebilirsin. Maske takmayı unutma.\")\n"
      ]
    },
    {
      "cell_type": "markdown",
      "metadata": {
        "id": "6AEkZrDt_Te9"
      },
      "source": [
        "# Problem 5\n",
        "YetGen bir spor kulübüyle sponsorluk anlaşması yapıyor. Kulüp, sponsorluk anlaşmasına göre her YetGen liderinin beden kitle indeksini hesaplamak istiyor. Spor kulübü, beden kitle indeksini hesaplamak için YetGen Jump Python liderlerinden Berkcan ve Ahmet'i arıyor. Berkcan ve Ahmet, kulübe yardımcı olmak için bir Python programı yazıyorlar. Sende bu iki YetGen liderine destek olmak ister misin?\n",
        "\n",
        "Kullanıcıdan alınan boy ve kilo değerlerine göre beden kitle indeksini hesaplayın ve şu kurallara göre ekrana şu yazıları yazdırın.\n",
        "\n",
        "\n",
        "Beden Kitle İndeksi, kişinin ağırlığının (kg olarak) boyunun karesine (m olarak) bölünmesiyle hesaplanır.\n",
        "\n",
        "\n",
        "```\n",
        " BKİ 18.5'un altındaysa -------> Zayıf\n",
        "\n",
        " BKİ 18.5 ile 25 arasındaysa ------> Normal\n",
        "\n",
        " BKİ 25 ile 30 arasındaysa --------> Fazla Kilolu\n",
        "\n",
        " BKİ 30'un üstündeyse -------------> Obez\n",
        "```\n",
        "\n"
      ]
    },
    {
      "cell_type": "code",
      "execution_count": 10,
      "metadata": {
        "id": "t-XPI_u0_Te-"
      },
      "outputs": [
        {
          "name": "stdout",
          "output_type": "stream",
          "text": [
            "obez\n"
          ]
        }
      ],
      "source": [
        "boy= float(input(\"boyunuzu giriniz :\"))\n",
        "kilo= int(input(\"kilonuzu giriniz :\"))\n",
        "bki= kilo/(boy*boy)\n",
        "\n",
        "if bki < 18.5:\n",
        "    print(\"zayıf\")\n",
        "elif bki >= 18.5 and bki < 25:\n",
        "    print(\"normal\")\n",
        "elif bki >= 25 and bki < 30:\n",
        "    print(\"fazla kilolu\")\n",
        "elif bki >= 30:\n",
        "    print(\"obez\")"
      ]
    },
    {
      "cell_type": "markdown",
      "metadata": {
        "id": "oFsvQyaO_Te-"
      },
      "source": [
        "# Problem 6\n",
        "Kullanıcıdan isim, yaş ve eğitim bilgilerini isteyip ehliyet alabilme  durumunu kontrol ediniz. \n",
        "\n",
        "Ehliyet alma koşulu en az 18 yaşında ve eğitim durumu lise ya da üniversite olmalıdır. "
      ]
    },
    {
      "cell_type": "code",
      "execution_count": 22,
      "metadata": {
        "id": "Tu2mcgco_Te-"
      },
      "outputs": [
        {
          "name": "stdout",
          "output_type": "stream",
          "text": [
            "ehliyet alabilirsiniz\n"
          ]
        }
      ],
      "source": [
        "isim= input(\"isim giriniz :\")\n",
        "egitim= input('eğitim durumunuzu giriniz : \"ilköğretim\", \"ortaöğretim\", \"lise\", \"üniversite\"')\n",
        "yas= int(input(\"yaşınızı giriniz :\"))\n",
        "\n",
        "if yas < 18:\n",
        "    print(\"ehliyet alamazsınız.\")\n",
        "else:\n",
        "    if (egitim == \"lise\" or egitim == \"üniversite\"):\n",
        "        print(\"ehliyet alabilirsiniz\")\n",
        "    else:\n",
        "        print(\"ehliyet alamazsınız.\")\n"
      ]
    },
    {
      "cell_type": "markdown",
      "metadata": {
        "id": "eUkxVSAE_Te_"
      },
      "source": [
        "# Problem 7\n",
        "Bir yılın artık yıl olup olmadığını kontrol etmek için bir program yazın. \n",
        "Artık yıl kuralı:\n",
        "\n",
        "a) Eğer yılın son iki basamağı (00) ile bitmiyor ve yalnızca 4'e tam bölünüyorsa artık yıldır. Ya da, \n",
        "\n",
        "b) Eğer yıl 400'e tam bölünüyorsa artık yıldır.\n",
        "\n",
        "**Örneğin**\n",
        "```\n",
        "2017 artık yıl değildir.\n",
        "1900 artık yıl değildir\n",
        "2012 artık yıldır.\n",
        "2000 artık yıldır.\n",
        "```"
      ]
    },
    {
      "cell_type": "code",
      "execution_count": 27,
      "metadata": {
        "id": "4uWh8qUL_Te_"
      },
      "outputs": [
        {
          "name": "stdout",
          "output_type": "stream",
          "text": [
            "1900 bir artık yıl değildir.\n"
          ]
        }
      ],
      "source": [
        "yil= int(input(\"Bir yıl giriniz :\"))\n",
        "\n",
        "if yil%4==0 and yil%100!=0:\n",
        "    print(f\"{yil} bir artık yıldır.\")\n",
        "elif yil%400==0:\n",
        "    print(f\"{yil} bir artık yıldır.\")\n",
        "else:\n",
        "    print(f\"{yil} bir artık yıl değildir.\")"
      ]
    }
  ],
  "metadata": {
    "colab": {
      "provenance": []
    },
    "kernelspec": {
      "display_name": "Python 3.10.5 64-bit",
      "language": "python",
      "name": "python3"
    },
    "language_info": {
      "codemirror_mode": {
        "name": "ipython",
        "version": 3
      },
      "file_extension": ".py",
      "mimetype": "text/x-python",
      "name": "python",
      "nbconvert_exporter": "python",
      "pygments_lexer": "ipython3",
      "version": "3.11.1"
    },
    "orig_nbformat": 4,
    "vscode": {
      "interpreter": {
        "hash": "5026d2d6e7aaaaba093def813beadff083d8733e4a511af01735cbabd156995d"
      }
    }
  },
  "nbformat": 4,
  "nbformat_minor": 0
}
